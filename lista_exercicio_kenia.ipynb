{
 "cells": [
  {
   "cell_type": "markdown",
   "id": "74a83619-b0f2-4bdd-ba3b-b9e4cba40134",
   "metadata": {},
   "source": [
    "### Lista de Exercícios\n",
    "Kênia Aparecida dos Santos"
   ]
  },
  {
   "cell_type": "markdown",
   "id": "05cdce05-2156-41e1-8b3a-034aa8c98bde",
   "metadata": {},
   "source": [
    "##### 1- log de 4 na base 3"
   ]
  },
  {
   "cell_type": "code",
   "execution_count": 1,
   "id": "a8409c5b-53bf-4e3a-be0d-58e927fa336c",
   "metadata": {},
   "outputs": [],
   "source": [
    "import math"
   ]
  },
  {
   "cell_type": "code",
   "execution_count": 2,
   "id": "8d2082bc-6aa3-4f1d-b51f-21b16f2160fc",
   "metadata": {},
   "outputs": [],
   "source": [
    "number = 4\n",
    "base = 3\n",
    "exponent = math.log(number, base) "
   ]
  },
  {
   "cell_type": "code",
   "execution_count": 3,
   "id": "722955de-b82e-458f-9add-d0381e620171",
   "metadata": {},
   "outputs": [
    {
     "data": {
      "text/plain": [
       "1.2618595071429148"
      ]
     },
     "execution_count": 3,
     "metadata": {},
     "output_type": "execute_result"
    }
   ],
   "source": [
    "exponent"
   ]
  },
  {
   "cell_type": "markdown",
   "id": "3ae5f938-7451-4097-bae0-8f9fc82b5b6c",
   "metadata": {},
   "source": [
    "##### 2- Ln(10)"
   ]
  },
  {
   "cell_type": "code",
   "execution_count": 10,
   "id": "0f5c4593-1db4-4507-a551-bd0b1424fa2f",
   "metadata": {},
   "outputs": [
    {
     "data": {
      "text/plain": [
       "2.302585092994046"
      ]
     },
     "execution_count": 10,
     "metadata": {},
     "output_type": "execute_result"
    }
   ],
   "source": [
    "import numpy as np\n",
    "np.log(10)"
   ]
  },
  {
   "cell_type": "markdown",
   "id": "8d1b6f9d-96dd-43e4-a46c-913b5222dd77",
   "metadata": {},
   "source": [
    "##### 3- Área do círculo com raio = 6.5 cm\n",
    "(A = π r²)"
   ]
  },
  {
   "cell_type": "code",
   "execution_count": 11,
   "id": "c244d1e3-7746-40f7-9814-0dca6f345252",
   "metadata": {},
   "outputs": [],
   "source": [
    "def acirculo(raio): \n",
    "    conta =(3.1415*raio**2)\n",
    "    return conta"
   ]
  },
  {
   "cell_type": "code",
   "execution_count": 12,
   "id": "cf4791ef-2936-4a5c-844e-48cbc95d675d",
   "metadata": {},
   "outputs": [
    {
     "data": {
      "text/plain": [
       "132.728375"
      ]
     },
     "execution_count": 12,
     "metadata": {},
     "output_type": "execute_result"
    }
   ],
   "source": [
    "acirculo(6.5)"
   ]
  },
  {
   "cell_type": "markdown",
   "id": "1db2106c-7740-4689-8f33-4f9ee6241099",
   "metadata": {},
   "source": [
    "##### 4- raiz quadrada de 2500"
   ]
  },
  {
   "cell_type": "code",
   "execution_count": 14,
   "id": "fded06c2-1357-4b87-b1c6-221b622d34fe",
   "metadata": {},
   "outputs": [
    {
     "data": {
      "text/plain": [
       "50.0"
      ]
     },
     "execution_count": 14,
     "metadata": {},
     "output_type": "execute_result"
    }
   ],
   "source": [
    "import numpy\n",
    "numpy. sqrt(2500)"
   ]
  },
  {
   "cell_type": "markdown",
   "id": "bc2cf7c7-e75c-4a32-83b0-8eccd4d68368",
   "metadata": {},
   "source": [
    "##### 5- var=25+60×3(14−5)2 com 3 casas decimais"
   ]
  },
  {
   "cell_type": "code",
   "execution_count": 15,
   "id": "3e48ef20-fd8f-406c-bf40-733bf43ac9fe",
   "metadata": {},
   "outputs": [
    {
     "data": {
      "text/plain": [
       "2.531"
      ]
     },
     "execution_count": 15,
     "metadata": {},
     "output_type": "execute_result"
    }
   ],
   "source": [
    "var= round((25+60*3)/(14-5)**2,3)\n",
    "var"
   ]
  },
  {
   "cell_type": "markdown",
   "id": "a9fd1df8-05b3-413a-bc1b-21d9041ab9d3",
   "metadata": {},
   "source": [
    "##### 6.1) fatorial de 5- 'na mão' e\n"
   ]
  },
  {
   "cell_type": "code",
   "execution_count": 16,
   "id": "ac03dc5a-39d0-4750-88ca-af9157ef8431",
   "metadata": {},
   "outputs": [
    {
     "name": "stdout",
     "output_type": "stream",
     "text": [
      "Fatorial de 5 é 120\n"
     ]
    }
   ],
   "source": [
    "def factorial(n): \n",
    "    return 1 if (n==1 or n==0) else n * factorial(n - 1);  \n",
    "  \n",
    "num = 5; \n",
    "print(\"Fatorial de\",num,\"é\", factorial(num))"
   ]
  },
  {
   "cell_type": "markdown",
   "id": "6b99e024-8b7d-49f7-a147-8407ad768159",
   "metadata": {},
   "source": [
    "##### 6.2) por método numpy"
   ]
  },
  {
   "cell_type": "code",
   "execution_count": 17,
   "id": "c319b02b-0d5b-46bc-8205-b76b10365013",
   "metadata": {},
   "outputs": [
    {
     "name": "stdout",
     "output_type": "stream",
     "text": [
      "120\n"
     ]
    }
   ],
   "source": [
    "a = np.math.factorial(5)\n",
    "print(a)"
   ]
  },
  {
   "cell_type": "markdown",
   "id": "24504250-11cd-4d80-99df-ce2aeb0820c3",
   "metadata": {},
   "source": [
    "##### 7- coseno (45)"
   ]
  },
  {
   "cell_type": "code",
   "execution_count": 18,
   "id": "ca8668c1-4f13-4dcf-a90f-d3824aac1c47",
   "metadata": {},
   "outputs": [
    {
     "data": {
      "text/plain": [
       "0.5253219888177297"
      ]
     },
     "execution_count": 18,
     "metadata": {},
     "output_type": "execute_result"
    }
   ],
   "source": [
    "np.math.cos(45)"
   ]
  },
  {
   "cell_type": "markdown",
   "id": "c2217d4a-097d-41e9-9c2e-2239167576c0",
   "metadata": {},
   "source": [
    "##### 8- Binômio de newton(3  2) “Com 3 números, quantas combinações posso fazer escolhendo 2 a 2?”"
   ]
  },
  {
   "cell_type": "code",
   "execution_count": null,
   "id": "f960c755-759b-4cdd-86d0-1d8754e17f37",
   "metadata": {},
   "outputs": [],
   "source": [
    "##### Fatorial 3!/2!(3-2)"
   ]
  },
  {
   "cell_type": "code",
   "execution_count": 46,
   "id": "7183ea51-5d85-41b1-9a3d-cea027c244db",
   "metadata": {},
   "outputs": [],
   "source": [
    "import math as mt"
   ]
  },
  {
   "cell_type": "code",
   "execution_count": 47,
   "id": "104bad98-e269-44f5-b47d-d9ecc95049a2",
   "metadata": {},
   "outputs": [],
   "source": [
    "\n",
    "binomio_newton=mt.factorial(3)/(mt.factorial(2)*mt.factorial(3-2))"
   ]
  },
  {
   "cell_type": "code",
   "execution_count": 48,
   "id": "bef3dc69-61a7-4a79-b2a9-8373c47fd6eb",
   "metadata": {},
   "outputs": [
    {
     "data": {
      "text/plain": [
       "3.0"
      ]
     },
     "execution_count": 48,
     "metadata": {},
     "output_type": "execute_result"
    }
   ],
   "source": [
    "binomio_newton"
   ]
  },
  {
   "cell_type": "markdown",
   "id": "1eb29227-5033-4c9b-b8ff-7ed048de9dbc",
   "metadata": {},
   "source": [
    "##### 9- Gerar um número aleatório INTEIRO entre 1 e 100"
   ]
  },
  {
   "cell_type": "code",
   "execution_count": 19,
   "id": "774a46ab-53bd-4032-9028-8a0cd9583ed6",
   "metadata": {},
   "outputs": [
    {
     "name": "stdout",
     "output_type": "stream",
     "text": [
      "41\n"
     ]
    }
   ],
   "source": [
    "import random\n",
    "x = random.randint(1,100)\n",
    "print(x)"
   ]
  },
  {
   "cell_type": "markdown",
   "id": "08208dab-852a-43f4-ba82-65650140fd83",
   "metadata": {},
   "source": [
    "##### 10- Gerar um número aleatório DECIMAL entre 1 e 100"
   ]
  },
  {
   "cell_type": "code",
   "execution_count": 22,
   "id": "cdb9d852-a39c-4cce-bac1-6eae4d7a30f9",
   "metadata": {},
   "outputs": [
    {
     "data": {
      "text/plain": [
       "67.3931054336896"
      ]
     },
     "execution_count": 22,
     "metadata": {},
     "output_type": "execute_result"
    }
   ],
   "source": [
    "random.uniform(1,100)"
   ]
  },
  {
   "cell_type": "markdown",
   "id": "b2810efd-8fd3-43c8-8d09-8d56ff7ec6fd",
   "metadata": {},
   "source": [
    "##### 11- Qual o TIPO das seguintes variáveis?\n",
    "a) var1=1+1\n",
    "b) var2=1.+1.\n",
    "c) var3= ‘Joaquim ’ + ‘José ’ + ‘da ’+’Silva ’+’Xavier’\n",
    "d) var4=True\n",
    "e) var5=[‘alfa’,’beta’,’gama’,’delta’,’epsilon’]\n",
    "f) var6=pd.DataFrame(data=var5)\n",
    "g) var6[0]"
   ]
  },
  {
   "cell_type": "code",
   "execution_count": 23,
   "id": "b01a05d2-de2b-4818-a235-b612e9c686f8",
   "metadata": {},
   "outputs": [
    {
     "data": {
      "text/plain": [
       "int"
      ]
     },
     "execution_count": 23,
     "metadata": {},
     "output_type": "execute_result"
    }
   ],
   "source": [
    "var1=1+1\n",
    "type(var1)"
   ]
  },
  {
   "cell_type": "code",
   "execution_count": 24,
   "id": "d86d4060-8b89-485a-90e4-f461c3f80de7",
   "metadata": {},
   "outputs": [
    {
     "data": {
      "text/plain": [
       "float"
      ]
     },
     "execution_count": 24,
     "metadata": {},
     "output_type": "execute_result"
    }
   ],
   "source": [
    "var2=1.+1.\n",
    "type(var2)"
   ]
  },
  {
   "cell_type": "code",
   "execution_count": 25,
   "id": "4ec05b04-9a43-4c6b-98ce-5d6202991d4b",
   "metadata": {},
   "outputs": [
    {
     "data": {
      "text/plain": [
       "str"
      ]
     },
     "execution_count": 25,
     "metadata": {},
     "output_type": "execute_result"
    }
   ],
   "source": [
    "var3= ('Joaquim ' + 'José ' + 'da '+ 'Silva' + 'Xavier')\n",
    "type(var3)"
   ]
  },
  {
   "cell_type": "code",
   "execution_count": 26,
   "id": "47be21f5-f1bc-4d44-9791-806a42c683ea",
   "metadata": {},
   "outputs": [
    {
     "data": {
      "text/plain": [
       "bool"
      ]
     },
     "execution_count": 26,
     "metadata": {},
     "output_type": "execute_result"
    }
   ],
   "source": [
    "var4=True\n",
    "type(var4)"
   ]
  },
  {
   "cell_type": "code",
   "execution_count": 27,
   "id": "76934e82-1294-43ae-b12b-186c221d0602",
   "metadata": {},
   "outputs": [
    {
     "data": {
      "text/plain": [
       "list"
      ]
     },
     "execution_count": 27,
     "metadata": {},
     "output_type": "execute_result"
    }
   ],
   "source": [
    "var5=['alfa','beta','gama','delta','epsilon']\n",
    "type(var5)"
   ]
  },
  {
   "cell_type": "code",
   "execution_count": 28,
   "id": "aaaaf7e4-80a2-4788-9d04-5d11dbceeecf",
   "metadata": {},
   "outputs": [
    {
     "data": {
      "text/plain": [
       "pandas.core.frame.DataFrame"
      ]
     },
     "execution_count": 28,
     "metadata": {},
     "output_type": "execute_result"
    }
   ],
   "source": [
    "import pandas as pd\n",
    "var6=pd.DataFrame(data=var5)\n",
    "type(var6)"
   ]
  },
  {
   "cell_type": "code",
   "execution_count": 29,
   "id": "a55c3f3a-c161-4a5b-8a3a-a3202d8af1da",
   "metadata": {},
   "outputs": [
    {
     "data": {
      "text/plain": [
       "pandas.core.series.Series"
      ]
     },
     "execution_count": 29,
     "metadata": {},
     "output_type": "execute_result"
    }
   ],
   "source": [
    "var6[0]\n",
    "type(var6[0])"
   ]
  },
  {
   "cell_type": "markdown",
   "id": "8147db01-a790-4ce9-bebf-7fcd528568a2",
   "metadata": {},
   "source": [
    "##### 12- Na variável var7=’Guido van Rossum’. (Esse é o criador do Python).Como fazemos para acessar a letra ‘R’?"
   ]
  },
  {
   "cell_type": "code",
   "execution_count": 30,
   "id": "a234982a-0ee8-489d-961d-94547ca59987",
   "metadata": {},
   "outputs": [
    {
     "data": {
      "text/plain": [
       "'R'"
      ]
     },
     "execution_count": 30,
     "metadata": {},
     "output_type": "execute_result"
    }
   ],
   "source": [
    "var7= 'Guido Van Rossum'\n",
    "var7[10]"
   ]
  },
  {
   "cell_type": "markdown",
   "id": "3ed67d07-a2aa-423f-aba9-90bc7a4fc711",
   "metadata": {},
   "source": [
    "##### 13- Desejo ter uma variável chamada ‘resultado1’ que será a soma dos elementos assinalados em negrito na lista ‘Lista’. \n",
    "Lista = [‘Python’, 10, 1.5, [1, 2, 3, 4], [2, 4, 6, 8], [1 , 3, 6, ( 9, 8, 7), 10]]"
   ]
  },
  {
   "cell_type": "code",
   "execution_count": 31,
   "id": "0b5aaed5-a8dd-4267-b7b4-05be95dac1fd",
   "metadata": {},
   "outputs": [],
   "source": [
    "Lista = ['Python', 10, 1.5, [1, 2, 3, 4], [2, 4, 6, 8], [1 , 3, 6, ( 9, 8, 7), 10]]"
   ]
  },
  {
   "cell_type": "code",
   "execution_count": 32,
   "id": "bab70130-e4ad-4a04-ac35-b0a9c2a0cb7d",
   "metadata": {},
   "outputs": [],
   "source": [
    "resul1= Lista[1]"
   ]
  },
  {
   "cell_type": "code",
   "execution_count": 33,
   "id": "1806d578-d661-4c4d-8b88-7f43b82be5bb",
   "metadata": {},
   "outputs": [],
   "source": [
    "resul2 = Lista[3][2]"
   ]
  },
  {
   "cell_type": "code",
   "execution_count": 34,
   "id": "b703d334-e861-47b9-8575-af580317d8ae",
   "metadata": {},
   "outputs": [],
   "source": [
    "resul3 = Lista[4][0]"
   ]
  },
  {
   "cell_type": "code",
   "execution_count": 35,
   "id": "e8cdf608-06a0-4ccd-a1be-2f2ee069dedf",
   "metadata": {},
   "outputs": [],
   "source": [
    "resul4 = Lista[5][3][1]"
   ]
  },
  {
   "cell_type": "code",
   "execution_count": 36,
   "id": "47ff2128-bfc8-47eb-bd80-9fd48b1b08c8",
   "metadata": {},
   "outputs": [],
   "source": [
    "resultado1= resul1+resul2+resul3+resul4"
   ]
  },
  {
   "cell_type": "code",
   "execution_count": 37,
   "id": "bb60139e-d728-4f3c-8e5c-bffe7e0c70d9",
   "metadata": {},
   "outputs": [
    {
     "data": {
      "text/plain": [
       "23"
      ]
     },
     "execution_count": 37,
     "metadata": {},
     "output_type": "execute_result"
    }
   ],
   "source": [
    "resultado1"
   ]
  },
  {
   "cell_type": "markdown",
   "id": "4379a5a1-0c72-4c03-a835-d66c66a12e9b",
   "metadata": {},
   "source": [
    "##### 14- Desejo ter uma variável chamada ‘resultado2’ que será a média da mesma lista da questão 13."
   ]
  },
  {
   "cell_type": "code",
   "execution_count": 38,
   "id": "8bf24a56-1430-4ae6-9e47-fd6a21dd2271",
   "metadata": {},
   "outputs": [
    {
     "data": {
      "text/plain": [
       "5.75"
      ]
     },
     "execution_count": 38,
     "metadata": {},
     "output_type": "execute_result"
    }
   ],
   "source": [
    "media = (resul1+resul2+resul3+resul4)/4\n",
    "media"
   ]
  },
  {
   "cell_type": "markdown",
   "id": "155de028-b214-4faf-a1bc-bae6d286b59a",
   "metadata": {},
   "source": [
    "##### 15- Tendo uma lista dados =[ 7,4,7,9,7,3,6,8,6,5,7,9]. Quero fazer um e tirar a média de diferentes fatiamentos (Slices)\n",
    "a) Todos os valores até o valor 8\n",
    "b) Do valor 3 até o final\n",
    "c) Do valor 9 (1° valor) até o valor 5"
   ]
  },
  {
   "cell_type": "code",
   "execution_count": 39,
   "id": "774414a3-e03d-4b4c-a71e-6aac467c762d",
   "metadata": {},
   "outputs": [],
   "source": [
    "dados =[ 7,4,7,9,7,3,6,8,6,5,7,9]"
   ]
  },
  {
   "cell_type": "code",
   "execution_count": 40,
   "id": "285b1ad8-21d0-447b-87c1-f28b931277f8",
   "metadata": {},
   "outputs": [
    {
     "data": {
      "text/plain": [
       "6.375"
      ]
     },
     "execution_count": 40,
     "metadata": {},
     "output_type": "execute_result"
    }
   ],
   "source": [
    "a= dados[:8]\n",
    "numpy.mean(a)"
   ]
  },
  {
   "cell_type": "code",
   "execution_count": 41,
   "id": "76b3674a-133b-417a-81df-e3e5a2270395",
   "metadata": {},
   "outputs": [
    {
     "data": {
      "text/plain": [
       "6.285714285714286"
      ]
     },
     "execution_count": 41,
     "metadata": {},
     "output_type": "execute_result"
    }
   ],
   "source": [
    "b= dados[5:]\n",
    "b\n",
    "numpy.mean(b)"
   ]
  },
  {
   "cell_type": "code",
   "execution_count": 42,
   "id": "29ef024b-c4d3-4465-bc42-12982975452e",
   "metadata": {},
   "outputs": [
    {
     "data": {
      "text/plain": [
       "6.285714285714286"
      ]
     },
     "execution_count": 42,
     "metadata": {},
     "output_type": "execute_result"
    }
   ],
   "source": [
    "c= dados[3:10]\n",
    "c\n",
    "numpy.mean(c)"
   ]
  },
  {
   "cell_type": "code",
   "execution_count": null,
   "id": "2de5f55c-ae31-4300-8a64-73b30489ed76",
   "metadata": {},
   "outputs": [],
   "source": []
  }
 ],
 "metadata": {
  "kernelspec": {
   "display_name": "Python 3",
   "language": "python",
   "name": "python3"
  },
  "language_info": {
   "codemirror_mode": {
    "name": "ipython",
    "version": 3
   },
   "file_extension": ".py",
   "mimetype": "text/x-python",
   "name": "python",
   "nbconvert_exporter": "python",
   "pygments_lexer": "ipython3",
   "version": "3.8.8"
  }
 },
 "nbformat": 4,
 "nbformat_minor": 5
}
